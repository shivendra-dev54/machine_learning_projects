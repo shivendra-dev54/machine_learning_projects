{
 "cells": [
  {
   "cell_type": "code",
   "execution_count": 1,
   "id": "25a05cfe",
   "metadata": {},
   "outputs": [],
   "source": [
    "import torch\n",
    "import torch.nn as nn\n",
    "import pandas as pd\n",
    "import matplotlib.pyplot as plt\n",
    "from sklearn.model_selection import train_test_split\n",
    "from sklearn.preprocessing import StandardScaler"
   ]
  },
  {
   "cell_type": "code",
   "execution_count": 5,
   "id": "14be2815",
   "metadata": {},
   "outputs": [],
   "source": [
    "# Load dataset\n",
    "df = pd.read_csv(\"boston_house_prices_1000.csv\")\n",
    "\n",
    "X = df.drop(columns=[\"PRICE\"]).values\n",
    "y = df[\"PRICE\"].values.reshape(-1, 1)"
   ]
  },
  {
   "cell_type": "code",
   "execution_count": 6,
   "id": "3df86099",
   "metadata": {},
   "outputs": [],
   "source": [
    "# Normalize features\n",
    "scaler_x = StandardScaler()\n",
    "scaler_y = StandardScaler()\n",
    "\n",
    "X = scaler_x.fit_transform(X)\n",
    "y = scaler_y.fit_transform(y)"
   ]
  },
  {
   "cell_type": "code",
   "execution_count": 7,
   "id": "af309714",
   "metadata": {},
   "outputs": [],
   "source": [
    "# split data \n",
    "X_train, X_test, y_train, y_test = train_test_split(X, y, test_size=0.2, random_state=42)"
   ]
  },
  {
   "cell_type": "code",
   "execution_count": 8,
   "id": "db3bfc29",
   "metadata": {},
   "outputs": [],
   "source": [
    "# convert to pytorch tensors \n",
    "X_train_tensor = torch.tensor(X_train, dtype=torch.float32)\n",
    "X_test_tensor = torch.tensor(X_test, dtype=torch.float32)\n",
    "y_train_tensor = torch.tensor(y_train, dtype=torch.float32)\n",
    "y_test_tensor = torch.tensor(y_test, dtype=torch.float32)"
   ]
  },
  {
   "cell_type": "code",
   "execution_count": 9,
   "id": "3a9db344",
   "metadata": {},
   "outputs": [],
   "source": [
    "# Linear Regression model\n",
    "class LinearRegressionModel(nn.Module):\n",
    "    def __init__(self, input_dim):\n",
    "        super(LinearRegressionModel, self).__init__()\n",
    "        self.linear = nn.Linear(input_dim, 1)\n",
    "    \n",
    "    def forward(self, x):\n",
    "        return self.linear(x)"
   ]
  },
  {
   "cell_type": "code",
   "execution_count": 10,
   "id": "8ae2054a",
   "metadata": {},
   "outputs": [],
   "source": [
    "# Nearual Network Model\n",
    "class NeuralNetworkModel(nn.Module):\n",
    "    def __init__(self, input_dim):\n",
    "        super(NeuralNetworkModel, self).__init__()\n",
    "        self.net = nn.Sequential(\n",
    "            nn.Linear(input_dim, 64),\n",
    "            nn.ReLU(),\n",
    "            nn.Linear(64, 32),\n",
    "            nn.ReLU(),\n",
    "            nn.Linear(32, 1),\n",
    "        )\n",
    "    \n",
    "    def forward(self, x):\n",
    "        return self.net(x)"
   ]
  },
  {
   "cell_type": "code",
   "execution_count": 13,
   "id": "30dd35d7",
   "metadata": {},
   "outputs": [],
   "source": [
    "# Training loop\n",
    "def train_model(model, X_train, y_train, epochs=200, lr=0.001):\n",
    "    criterion = nn.MSELoss()\n",
    "    optimizer = torch.optim.Adam(model.parameters(), lr=lr)\n",
    "    losses = []\n",
    "\n",
    "    for epoch in range(epochs):\n",
    "        model.train()\n",
    "        output = model(X_train)\n",
    "        loss = criterion(output, y_train)\n",
    "        losses.append(loss.item())\n",
    "\n",
    "        optimizer.zero_grad()\n",
    "        loss.backward()\n",
    "        optimizer.step()\n",
    "\n",
    "        if (epoch + 1) % 20 == 0:\n",
    "            print(f\"Epoch {epoch+1}/{epochs}, Loss: {loss.item():.4f}\")\n",
    "    \n",
    "    return losses"
   ]
  },
  {
   "cell_type": "code",
   "execution_count": 14,
   "id": "1dbf1adf",
   "metadata": {},
   "outputs": [
    {
     "name": "stdout",
     "output_type": "stream",
     "text": [
      "Epoch 20/200, Loss: 1.4506\n",
      "Epoch 40/200, Loss: 1.1818\n",
      "Epoch 60/200, Loss: 0.9813\n",
      "Epoch 80/200, Loss: 0.8373\n",
      "Epoch 100/200, Loss: 0.7359\n",
      "Epoch 120/200, Loss: 0.6645\n",
      "Epoch 140/200, Loss: 0.6130\n",
      "Epoch 160/200, Loss: 0.5741\n",
      "Epoch 180/200, Loss: 0.5432\n",
      "Epoch 200/200, Loss: 0.5174\n"
     ]
    },
    {
     "data": {
      "image/png": "[encoded data removed]",
      "text/plain": [
       "<Figure size 640x480 with 1 Axes>"
      ]
     },
     "metadata": {},
     "output_type": "display_data"
    },
    {
     "name": "stdout",
     "output_type": "stream",
     "text": [
      "Predicted: 15.48, Actual: 9.70\n",
      "Predicted: 33.85, Actual: 31.00\n",
      "Predicted: 7.76, Actual: 13.50\n",
      "Predicted: 7.62, Actual: 11.80\n",
      "Predicted: 29.86, Actual: 31.10\n"
     ]
    }
   ],
   "source": [
    "# Linear model\n",
    "input_dim = X_train.shape[1]\n",
    "\n",
    "model = LinearRegressionModel(input_dim)\n",
    "\n",
    "losses = train_model(model, X_train_tensor, y_train_tensor)\n",
    "\n",
    "# Plot loss\n",
    "plt.plot(losses)\n",
    "plt.xlabel(\"Epoch\")\n",
    "plt.ylabel(\"MSE Loss\")\n",
    "plt.title(\"Linear Training Loss\")\n",
    "plt.show()\n",
    "\n",
    "# Evaluate\n",
    "model.eval()\n",
    "with torch.no_grad():\n",
    "    predictions = model(X_test_tensor)\n",
    "    predictions_rescaled = scaler_y.inverse_transform(predictions.numpy())\n",
    "    y_test_rescaled = scaler_y.inverse_transform(y_test_tensor.numpy())\n",
    "\n",
    "# Print a few predictions\n",
    "for pred, actual in zip(predictions_rescaled[:5], y_test_rescaled[:5]):\n",
    "    print(f\"Predicted: {pred[0]:.2f}, Actual: {actual[0]:.2f}\")"
   ]
  },
  {
   "cell_type": "code",
   "execution_count": 15,
   "id": "32201815",
   "metadata": {},
   "outputs": [
    {
     "name": "stdout",
     "output_type": "stream",
     "text": [
      "Epoch 20/200, Loss: 0.5953\n",
      "Epoch 40/200, Loss: 0.3605\n",
      "Epoch 60/200, Loss: 0.2367\n",
      "Epoch 80/200, Loss: 0.1761\n",
      "Epoch 100/200, Loss: 0.1357\n",
      "Epoch 120/200, Loss: 0.1101\n",
      "Epoch 140/200, Loss: 0.0927\n",
      "Epoch 160/200, Loss: 0.0803\n",
      "Epoch 180/200, Loss: 0.0704\n",
      "Epoch 200/200, Loss: 0.0621\n"
     ]
    },
    {
     "data": {
      "image/png": "[encoded data removed]",
      "text/plain": [
       "<Figure size 640x480 with 1 Axes>"
      ]
     },
     "metadata": {},
     "output_type": "display_data"
    },
    {
     "name": "stdout",
     "output_type": "stream",
     "text": [
      "Predicted: 11.20, Actual: 9.70\n",
      "Predicted: 34.22, Actual: 31.00\n",
      "Predicted: 13.28, Actual: 13.50\n",
      "Predicted: 9.43, Actual: 11.80\n",
      "Predicted: 30.00, Actual: 31.10\n"
     ]
    }
   ],
   "source": [
    "# Linear model\n",
    "input_dim = X_train.shape[1]\n",
    "\n",
    "model = NeuralNetworkModel(input_dim)\n",
    "\n",
    "losses = train_model(model, X_train_tensor, y_train_tensor)\n",
    "\n",
    "# Plot loss\n",
    "plt.plot(losses)\n",
    "plt.xlabel(\"Epoch\")\n",
    "plt.ylabel(\"MSE Loss\")\n",
    "plt.title(\"NN Training Loss\")\n",
    "plt.show()\n",
    "\n",
    "# Evaluate\n",
    "model.eval()\n",
    "with torch.no_grad():\n",
    "    predictions = model(X_test_tensor)\n",
    "    predictions_rescaled = scaler_y.inverse_transform(predictions.numpy())\n",
    "    y_test_rescaled = scaler_y.inverse_transform(y_test_tensor.numpy())\n",
    "\n",
    "# Print a few predictions\n",
    "for pred, actual in zip(predictions_rescaled[:5], y_test_rescaled[:5]):\n",
    "    print(f\"Predicted: {pred[0]:.2f}, Actual: {actual[0]:.2f}\")"
   ]
  }
 ],
 "metadata": {
  "kernelspec": {
   "display_name": "ml_venv",
   "language": "python",
   "name": "python3"
  },
  "language_info": {
   "codemirror_mode": {
    "name": "ipython",
    "version": 3
   },
   "file_extension": ".py",
   "mimetype": "text/x-python",
   "name": "python",
   "nbconvert_exporter": "python",
   "pygments_lexer": "ipython3",
   "version": "3.13.3"
  }
 },
 "nbformat": 4,
 "nbformat_minor": 5
}
